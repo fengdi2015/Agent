{
 "cells": [
  {
   "cell_type": "code",
   "execution_count": null,
   "id": "b375c115-126a-4c98-a463-8392701eaa3a",
   "metadata": {},
   "outputs": [],
   "source": [
    "### langchain, ## may test use tool node and agent \n",
    "## https://langchain-ai.github.io/langgraph/how-tos/tool-calling-errors/\n",
    "#https://langchain-ai.github.io/langgraph/how-tos/tool-calling-errors/#using-the-prebuilt-toolnode\n",
    "#https://paynelab.github.io/cptac/usecase05_enrichment_analysis.html"
   ]
  },
  {
   "cell_type": "code",
   "execution_count": 13,
   "id": "b5e7c9ca-0c9f-4275-b124-183202933bdd",
   "metadata": {},
   "outputs": [],
   "source": [
    "from langchain import OpenAI, LLMMathChain, SerpAPIWrapper\n",
    "from langchain.chat_models import ChatOpenAI\n",
    "from langchain.chains.conversation.memory import ConversationBufferWindowMemory\n",
    "from langchain.agents import initialize_agent, Tool, AgentType\n",
    "from langchain.tools import BaseTool\n",
    "from langgraph.graph import StateGraph, MessagesState, START, END\n",
    "from langgraph.graph.message import add_messages\n",
    "from langgraph.prebuilt import ToolNode\n",
    "from langchain_anthropic import ChatAnthropic\n",
    "from langchain_core.tools import tool\n",
    "import json, os\n",
    "import requests\n",
    "import pandas as pd\n",
    "from typing import Annotated\n",
    "from typing_extensions import TypedDict\n",
    "from langgraph.checkpoint.memory import MemorySaver\n",
    "from langchain.memory import ConversationBufferMemory\n",
    "import uuid\n",
    "from typing import Literal\n",
    "memory = MemorySaver()"
   ]
  },
  {
   "cell_type": "code",
   "execution_count": 4,
   "id": "9b437845-a578-42d4-a752-9324a5e1faf0",
   "metadata": {},
   "outputs": [],
   "source": [
    "os.environ['OPENAI_API_KEY']=API_KEY\n",
    "os.environ[\"TAVILY_API_KEY\"]=Tav_API_KEY"
   ]
  },
  {
   "cell_type": "code",
   "execution_count": 5,
   "id": "6167ba5c-2018-4eb3-afe7-715f69371af8",
   "metadata": {},
   "outputs": [],
   "source": [
    "#### working one\n",
    "class State(TypedDict):\n",
    "    messages: Annotated[list, add_messages]\n",
    "    \n",
    "llm = ChatAnthropic(model=\"claude-3-5-sonnet-20240620\",\n",
    "                    anthropic_api_key='')\n",
    "\n",
    "############################################################################################################\n",
    "### test API case use my function, not depdent on lainchain library\n",
    "import pandas as pd\n",
    "import gseapy as gp\n",
    "################ New ######################################################################################\n",
    "target_gl=['HBG1', 'GATA2', 'ANKRD22', 'LHX4', 'PSMD9', 'APH1A', 'TRAPPC4', 'KRAS', 'TP53', 'PTCH1', 'DNMT3A', 'PTPRS', 'JAK2', 'TNFAIP3', 'BRCA1', 'ASXL1', 'PTCH1', 'DNMT3A', 'PTPRS', 'JAK2', 'EGFR', 'PTEN']\n"
   ]
  },
  {
   "cell_type": "code",
   "execution_count": 6,
   "id": "55d58ca4-778f-44a2-b9f3-914356919e0a",
   "metadata": {},
   "outputs": [],
   "source": [
    "###################### working !!!\n",
    "from typing import List, Union\n",
    "from pydantic import BaseModel, ValidationError\n",
    "import gseapy as gp\n",
    "\n",
    "\n",
    "# Define input schema using Pydantic\n",
    "class EnrichrInput(BaseModel):\n",
    "    inputgenelist: List[str]\n",
    "\n",
    "# Define the Enrichr API function\n",
    "def enrichr_api(input_data: Union[dict, list]) -> dict:\n",
    "    \"\"\"\n",
    "    Perform enrichment analysis using the Enrichr API.\n",
    "\n",
    "    Args:\n",
    "        input_data (Union[dict, list]): Input data with a list of gene symbols.\n",
    "            If a list is provided, it will be wrapped in a dictionary with the key 'inputgenelist'.\n",
    "\n",
    "    Returns:\n",
    "        dict: Enrichment results or error details.\n",
    "    \"\"\"\n",
    "    try:\n",
    "        # If input_data is a list, wrap it in a dictionary\n",
    "        if isinstance(input_data, list):\n",
    "            input_data = {\"inputgenelist\": input_data}\n",
    "\n",
    "        # Validate input using the Pydantic schema\n",
    "        validated_input = EnrichrInput(**input_data)\n",
    "        \n",
    "        # Access the gene list from the validated input\n",
    "        gene_list = validated_input.inputgenelist\n",
    "\n",
    "        # Perform enrichment analysis\n",
    "        enr = gp.enrichr(\n",
    "            gene_list=gene_list, \n",
    "            gene_sets='KEGG_2016', \n",
    "            outdir='test/enrichr_kegg_tumor'\n",
    "        )\n",
    "        \n",
    "        # Extract top results as JSON\n",
    "        enrichment_results = enr.res2d.head().to_dict(orient='records')\n",
    "\n",
    "        return {\n",
    "            \"enrichment_results\": enrichment_results\n",
    "        }\n",
    "    except ValidationError as e:\n",
    "        return {\n",
    "            \"error\": f\"Validation error: {e.errors()}\"\n",
    "        }\n",
    "    except Exception as e:\n",
    "        return {\n",
    "            \"error\": str(e)\n",
    "        }\n",
    "\n",
    "# Tool definition for LangChain\n",
    "enrichr_tool = Tool.from_function(\n",
    "    name=\"enrichr_api\",\n",
    "    func=enrichr_api,\n",
    "    description=\"Perform enrichment analysis using the Enrichr API. Input: gene list as a list of strings. Output: Enrichment results.\",\n",
    "    args_schema=EnrichrInput\n",
    ")\n",
    "\n",
    "# Bind the tool to the LLM\n",
    "llm_with_tools = llm.bind_tools([enrichr_tool])\n",
    "\n",
    "# Example gene list\n"
   ]
  },
  {
   "cell_type": "code",
   "execution_count": 7,
   "id": "1e28b435-23de-4200-aaa7-5cf931113a05",
   "metadata": {},
   "outputs": [
    {
     "name": "stdout",
     "output_type": "stream",
     "text": [
      "{'enrichment_results': [{'Gene_set': 'KEGG_2016', 'Term': 'Endometrial cancer Homo sapiens hsa05213', 'Overlap': '4/52', 'P-value': 1.2098570270927802e-07, 'Adjusted P-value': 7.088801821799391e-06, 'Old P-value': 0, 'Old Adjusted P-value': 0, 'Odds Ratio': 118.6547619047619, 'Combined Score': 1889.884809446178, 'Genes': 'PTEN;KRAS;TP53;EGFR'}, {'Gene_set': 'KEGG_2016', 'Term': 'MicroRNAs in cancer Homo sapiens hsa05206', 'Overlap': '6/297', 'P-value': 1.6288851047270544e-07, 'Adjusted P-value': 7.088801821799391e-06, 'Old P-value': 0, 'Old Adjusted P-value': 0, 'Odds Ratio': 33.833333333333336, 'Combined Score': 528.821761760631, 'Genes': 'DNMT3A;PTEN;KRAS;BRCA1;TP53;EGFR'}, {'Gene_set': 'KEGG_2016', 'Term': 'Glioma Homo sapiens hsa05214', 'Overlap': '4/65', 'P-value': 3.003720406162296e-07, 'Adjusted P-value': 7.088801821799391e-06, 'Old P-value': 0, 'Old Adjusted P-value': 0, 'Odds Ratio': 93.30679156908666, 'Combined Score': 1401.3041621971267, 'Genes': 'PTEN;KRAS;TP53;EGFR'}, {'Gene_set': 'KEGG_2016', 'Term': 'Central carbon metabolism in cancer Homo sapiens hsa05230', 'Overlap': '4/67', 'P-value': 3.396718615367122e-07, 'Adjusted P-value': 7.088801821799391e-06, 'Old P-value': 0, 'Old Adjusted P-value': 0, 'Odds Ratio': 90.33560090702947, 'Combined Score': 1345.5745932880905, 'Genes': 'PTEN;KRAS;TP53;EGFR'}, {'Gene_set': 'KEGG_2016', 'Term': 'PI3K-Akt signaling pathway Homo sapiens hsa04151', 'Overlap': '6/341', 'P-value': 3.67123158463665e-07, 'Adjusted P-value': 7.088801821799391e-06, 'Old P-value': 0, 'Old Adjusted P-value': 0, 'Odds Ratio': 29.323880597014924, 'Combined Score': 434.5086083629967, 'Genes': 'PTEN;KRAS;BRCA1;JAK2;TP53;EGFR'}]}\n"
     ]
    }
   ],
   "source": [
    "# Correct invocation\n",
    "result = enrichr_tool.invoke({\"inputgenelist\": target_gl})\n",
    "\n",
    "# Print the result\n",
    "print(result)"
   ]
  },
  {
   "cell_type": "code",
   "execution_count": 8,
   "id": "58767aa8-93e1-4484-a77e-f6260d1d13ce",
   "metadata": {},
   "outputs": [
    {
     "name": "stdout",
     "output_type": "stream",
     "text": [
      "{'inputgenelist': ['HBG1', 'GATA2', 'ANKRD22', 'LHX4', 'PSMD9', 'APH1A', 'TRAPPC4', 'KRAS', 'TP53', 'PTCH1', 'DNMT3A', 'PTPRS', 'JAK2', 'TNFAIP3', 'BRCA1', 'ASXL1', 'PTCH1', 'DNMT3A', 'PTPRS', 'JAK2', 'EGFR', 'PTEN']}\n"
     ]
    }
   ],
   "source": [
    "#print({\"inputgenelist\": target_gl})"
   ]
  },
  {
   "cell_type": "code",
   "execution_count": 10,
   "id": "0d455ed6-4b2e-47f6-9c15-c0830958de56",
   "metadata": {},
   "outputs": [
    {
     "name": "stdout",
     "output_type": "stream",
     "text": [
      "{'enrichment_results': [{'Gene_set': 'KEGG_2016', 'Term': 'Endometrial cancer Homo sapiens hsa05213', 'Overlap': '4/52', 'P-value': 1.2098570270927802e-07, 'Adjusted P-value': 7.088801821799391e-06, 'Old P-value': 0, 'Old Adjusted P-value': 0, 'Odds Ratio': 118.6547619047619, 'Combined Score': 1889.884809446178, 'Genes': 'PTEN;KRAS;TP53;EGFR'}, {'Gene_set': 'KEGG_2016', 'Term': 'MicroRNAs in cancer Homo sapiens hsa05206', 'Overlap': '6/297', 'P-value': 1.6288851047270544e-07, 'Adjusted P-value': 7.088801821799391e-06, 'Old P-value': 0, 'Old Adjusted P-value': 0, 'Odds Ratio': 33.833333333333336, 'Combined Score': 528.821761760631, 'Genes': 'DNMT3A;PTEN;KRAS;BRCA1;TP53;EGFR'}, {'Gene_set': 'KEGG_2016', 'Term': 'Glioma Homo sapiens hsa05214', 'Overlap': '4/65', 'P-value': 3.003720406162296e-07, 'Adjusted P-value': 7.088801821799391e-06, 'Old P-value': 0, 'Old Adjusted P-value': 0, 'Odds Ratio': 93.30679156908666, 'Combined Score': 1401.3041621971267, 'Genes': 'PTEN;KRAS;TP53;EGFR'}, {'Gene_set': 'KEGG_2016', 'Term': 'Central carbon metabolism in cancer Homo sapiens hsa05230', 'Overlap': '4/67', 'P-value': 3.396718615367122e-07, 'Adjusted P-value': 7.088801821799391e-06, 'Old P-value': 0, 'Old Adjusted P-value': 0, 'Odds Ratio': 90.33560090702947, 'Combined Score': 1345.5745932880905, 'Genes': 'PTEN;KRAS;TP53;EGFR'}, {'Gene_set': 'KEGG_2016', 'Term': 'PI3K-Akt signaling pathway Homo sapiens hsa04151', 'Overlap': '6/341', 'P-value': 3.67123158463665e-07, 'Adjusted P-value': 7.088801821799391e-06, 'Old P-value': 0, 'Old Adjusted P-value': 0, 'Odds Ratio': 29.323880597014924, 'Combined Score': 434.5086083629967, 'Genes': 'PTEN;KRAS;BRCA1;JAK2;TP53;EGFR'}]}\n"
     ]
    }
   ],
   "source": [
    "#result = enrichr_api({\"inputgenelist\": target_gl})\n",
    "#print(result)"
   ]
  },
  {
   "cell_type": "code",
   "execution_count": 11,
   "id": "17299546-2f57-4bfb-b292-75848fcd4e18",
   "metadata": {},
   "outputs": [],
   "source": [
    "import json\n",
    "from langchain_core.messages import ToolMessage\n",
    "class BasicToolNode:\n",
    "    \"\"\"A node that runs the tools requested in the last AIMessage.\"\"\"\n",
    "\n",
    "    def __init__(self, tools: list) -> None:\n",
    "        self.tools_by_name = {tool.name: tool for tool in tools}\n",
    "\n",
    "    def __call__(self, inputs: dict):\n",
    "        if messages := inputs.get(\"messages\", []):\n",
    "            message = messages[-1]\n",
    "        else:\n",
    "            raise ValueError(\"No message found in input\")\n",
    "        outputs = []\n",
    "        for tool_call in message.tool_calls:\n",
    "            tool_result = self.tools_by_name[tool_call[\"name\"]].invoke(\n",
    "                tool_call[\"args\"]\n",
    "            )\n",
    "            outputs.append(\n",
    "                ToolMessage(\n",
    "                    content=json.dumps(tool_result),\n",
    "                    name=tool_call[\"name\"],\n",
    "                    tool_call_id=tool_call[\"id\"],\n",
    "                )\n",
    "            )\n",
    "        return {\"messages\": outputs}\n",
    "\n",
    "\n",
    "tool_node = ToolNode([enrichr_api])"
   ]
  },
  {
   "cell_type": "code",
   "execution_count": 14,
   "id": "b44d7780-62fb-49f7-babc-76b9917cab93",
   "metadata": {},
   "outputs": [],
   "source": [
    "def should_continue(state: MessagesState):\n",
    "    messages = state[\"messages\"]\n",
    "    last_message = messages[-1]\n",
    "    if last_message.tool_calls:\n",
    "        return \"tools\"\n",
    "    return END\n",
    "def should_fallback(\n",
    "    state: MessagesState,\n",
    ") -> Literal[\"agent\", \"remove_failed_tool_call_attempt\"]:\n",
    "    messages = state[\"messages\"]\n",
    "    failed_tool_messages = [\n",
    "        msg\n",
    "        for msg in messages\n",
    "        if isinstance(msg, ToolMessage)\n",
    "        and msg.additional_kwargs.get(\"error\") is not None\n",
    "    ]\n",
    "    if failed_tool_messages:\n",
    "        return \"remove_failed_tool_call_attempt\"\n",
    "    return \"agent\"\n",
    "\n",
    "def call_model(state: MessagesState):\n",
    "    messages = state[\"messages\"]\n",
    "    response = llm_with_tools.invoke(messages)\n",
    "    return {\"messages\": [response]}\n",
    "\n",
    "def remove_failed_tool_call_attempt(state: MessagesState):\n",
    "    messages = state[\"messages\"]\n",
    "    # Remove all messages from the most recent\n",
    "    # instance of AIMessage onwards.\n",
    "    last_ai_message_index = next(\n",
    "        i\n",
    "        for i, msg in reversed(list(enumerate(messages)))\n",
    "        if isinstance(msg, AIMessage)\n",
    "    )\n",
    "    messages_to_remove = messages[last_ai_message_index:]\n",
    "    return {\"messages\": [RemoveMessage(id=m.id) for m in messages_to_remove]}\n",
    "\n",
    "\n",
    "# Fallback to a better model if a tool call fails\n",
    "def call_fallback_model(state: MessagesState):\n",
    "    messages = state[\"messages\"]\n",
    "    response = better_model_with_tools.invoke(messages)\n",
    "    return {\"messages\": [response]}\n",
    "\n",
    "\n",
    "\n",
    "workflow = StateGraph(MessagesState)\n",
    "\n",
    "########\n",
    "workflow = StateGraph(MessagesState)\n",
    "\n",
    "workflow.add_node(\"agent\", call_model)\n",
    "workflow.add_node(\"tools\", tool_node)\n",
    "workflow.add_node(\"remove_failed_tool_call_attempt\", remove_failed_tool_call_attempt)\n",
    "workflow.add_node(\"fallback_agent\", call_fallback_model)\n",
    "\n",
    "workflow.add_edge(START, \"agent\")\n",
    "workflow.add_conditional_edges(\"agent\", should_continue, [\"tools\", END])\n",
    "workflow.add_conditional_edges(\"tools\", should_fallback)\n",
    "workflow.add_edge(\"remove_failed_tool_call_attempt\", \"fallback_agent\")\n",
    "workflow.add_edge(\"fallback_agent\", \"tools\")\n",
    "\n",
    "app = workflow.compile()\n",
    "\n",
    "##########\n",
    "# Define the two nodes we will cycle between\n",
    "#workflow.add_node(\"agent\", call_model)\n",
    "#workflow.add_node(\"tools\", tool_node)\n",
    "\n",
    "#workflow.add_edge(START, \"agent\")\n",
    "#workflow.add_conditional_edges(\"agent\", should_continue, [\"tools\", END])\n",
    "#workflow.add_edge(\"tools\", \"agent\")\n",
    "\n",
    "#app = workflow.compile()\n",
    "#app = workflow.compile(checkpointer=memory)\n",
    "# The thread id is a unique key that identifies\n",
    "# this particular conversation.\n",
    "# We'll just generate a random uuid here.\n",
    "# This enables a single application to manage conversations among multiple users.\n",
    "thread_id = uuid.uuid4()\n",
    "config = {\"configurable\": {\"thread_id\": thread_id}}\n"
   ]
  },
  {
   "cell_type": "code",
   "execution_count": 15,
   "id": "f2b47ebc-7de7-435e-9ea1-36f74b710c3a",
   "metadata": {},
   "outputs": [
    {
     "data": {
      "image/png": "[encoded data removed]",
      "text/plain": [
       "<IPython.core.display.Image object>"
      ]
     },
     "metadata": {},
     "output_type": "display_data"
    }
   ],
   "source": [
    "from IPython.display import Image, display\n",
    "try:\n",
    "    display(Image(app.get_graph().draw_mermaid_png()))\n",
    "except Exception:\n",
    "    # This requires some extra dependencies and is optional\n",
    "    pass"
   ]
  },
  {
   "cell_type": "code",
   "execution_count": 242,
   "id": "389dfe65-0723-4f97-94cb-16029ca65a19",
   "metadata": {},
   "outputs": [],
   "source": [
    "target_gl=['HBG1', 'GATA2', 'ANKRD22', 'LHX4', 'PSMD9', 'APH1A', 'TRAPPC4', 'KRAS', 'TP53', 'PTCH1', 'DNMT3A', 'PTPRS', 'JAK2', 'TNFAIP3', 'BRCA1', 'ASXL1', 'PTCH1', 'DNMT3A', 'PTPRS', 'JAK2', 'EGFR', 'PTEN']"
   ]
  },
  {
   "cell_type": "code",
   "execution_count": 16,
   "id": "906c6919-364a-469f-bc70-192da0fb4052",
   "metadata": {},
   "outputs": [
    {
     "name": "stdout",
     "output_type": "stream",
     "text": [
      "HUMAN: inputgenelist is ['HBG1', 'GATA2', 'ANKRD22', 'LHX4', 'PSMD9', 'APH1A', 'TRAPPC4', 'KRAS', 'TP53', 'PTCH1', 'DNMT3A', 'PTPRS', 'JAK2', 'TNFAIP3', 'BRCA1', 'ASXL1', 'PTCH1', 'DNMT3A', 'PTPRS', 'JAK2', 'EGFR', 'PTEN']\n",
      "\n",
      "AI: [{'text': \"Thank you for providing the input gene list. I'll use the Enrichr API to perform an enrichment analysis on these genes. Let me call the function to get the results for you.\", 'type': 'text'}, {'id': 'toolu_01Ndy8YqYizFWCyXbqufRJCa', 'input': {'inputgenelist': ['HBG1', 'GATA2', 'ANKRD22', 'LHX4', 'PSMD9', 'APH1A', 'TRAPPC4', 'KRAS', 'TP53', 'PTCH1', 'DNMT3A', 'PTPRS', 'JAK2', 'TNFAIP3', 'BRCA1', 'ASXL1', 'PTCH1', 'DNMT3A', 'PTPRS', 'JAK2', 'EGFR', 'PTEN']}, 'name': 'enrichr_api', 'type': 'tool_use'}]\n",
      "\n",
      "TOOL: Error: 1 validation error for enrichr_api\n",
      "input_data\n",
      "  Field required [type=missing, input_value={'inputgenelist': ['HBG1'...'JAK2', 'EGFR', 'PTEN']}, input_type=dict]\n",
      "    For further information visit https://errors.pydantic.dev/2.9/v/missing\n",
      " Please fix your mistakes.\n",
      "\n",
      "AI: [{'text': 'I apologize for the error. It seems there was an issue with the function call. Let me try again with a slightly modified format for the input parameter.', 'type': 'text'}, {'id': 'toolu_01DMYtAVPRrwdgnvVDMqm8bv', 'input': {'inputgenelist': ['HBG1', 'GATA2', 'ANKRD22', 'LHX4', 'PSMD9', 'APH1A', 'TRAPPC4', 'KRAS', 'TP53', 'PTCH1', 'DNMT3A', 'PTPRS', 'JAK2', 'TNFAIP3', 'BRCA1', 'ASXL1', 'EGFR', 'PTEN']}, 'name': 'enrichr_api', 'type': 'tool_use'}]\n",
      "\n",
      "TOOL: Error: 1 validation error for enrichr_api\n",
      "input_data\n",
      "  Field required [type=missing, input_value={'inputgenelist': ['HBG1'...ASXL1', 'EGFR', 'PTEN']}, input_type=dict]\n",
      "    For further information visit https://errors.pydantic.dev/2.9/v/missing\n",
      " Please fix your mistakes.\n",
      "\n",
      "AI: [{'text': 'I apologize once again for the persistent error. It seems that the function is expecting a different input format. Let me try one more time with a different approach.', 'type': 'text'}, {'id': 'toolu_01UzKAgDuRj6qsj7FqU57TKN', 'input': {'input_data': {'inputgenelist': ['HBG1', 'GATA2', 'ANKRD22', 'LHX4', 'PSMD9', 'APH1A', 'TRAPPC4', 'KRAS', 'TP53', 'PTCH1', 'DNMT3A', 'PTPRS', 'JAK2', 'TNFAIP3', 'BRCA1', 'ASXL1', 'EGFR', 'PTEN']}}, 'name': 'enrichr_api', 'type': 'tool_use'}]\n",
      "\n",
      "TOOL: {\"enrichment_results\": [{\"Gene_set\": \"KEGG_2016\", \"Term\": \"Endometrial cancer Homo sapiens hsa05213\", \"Overlap\": \"4/52\", \"P-value\": 1.2098570270927802e-07, \"Adjusted P-value\": 7.088801821799391e-06, \"Old P-value\": 0, \"Old Adjusted P-value\": 0, \"Odds Ratio\": 118.6547619047619, \"Combined Score\": 1889.884809446178, \"Genes\": \"PTEN;KRAS;TP53;EGFR\"}, {\"Gene_set\": \"KEGG_2016\", \"Term\": \"MicroRNAs in cancer Homo sapiens hsa05206\", \"Overlap\": \"6/297\", \"P-value\": 1.6288851047270544e-07, \"Adjusted P-value\": 7.088801821799391e-06, \"Old P-value\": 0, \"Old Adjusted P-value\": 0, \"Odds Ratio\": 33.833333333333336, \"Combined Score\": 528.821761760631, \"Genes\": \"DNMT3A;PTEN;KRAS;BRCA1;TP53;EGFR\"}, {\"Gene_set\": \"KEGG_2016\", \"Term\": \"Glioma Homo sapiens hsa05214\", \"Overlap\": \"4/65\", \"P-value\": 3.003720406162296e-07, \"Adjusted P-value\": 7.088801821799391e-06, \"Old P-value\": 0, \"Old Adjusted P-value\": 0, \"Odds Ratio\": 93.30679156908666, \"Combined Score\": 1401.3041621971267, \"Genes\": \"PTEN;KRAS;TP53;EGFR\"}, {\"Gene_set\": \"KEGG_2016\", \"Term\": \"Central carbon metabolism in cancer Homo sapiens hsa05230\", \"Overlap\": \"4/67\", \"P-value\": 3.396718615367122e-07, \"Adjusted P-value\": 7.088801821799391e-06, \"Old P-value\": 0, \"Old Adjusted P-value\": 0, \"Odds Ratio\": 90.33560090702947, \"Combined Score\": 1345.5745932880905, \"Genes\": \"PTEN;KRAS;TP53;EGFR\"}, {\"Gene_set\": \"KEGG_2016\", \"Term\": \"PI3K-Akt signaling pathway Homo sapiens hsa04151\", \"Overlap\": \"6/341\", \"P-value\": 3.67123158463665e-07, \"Adjusted P-value\": 7.088801821799391e-06, \"Old P-value\": 0, \"Old Adjusted P-value\": 0, \"Odds Ratio\": 29.323880597014924, \"Combined Score\": 434.5086083629967, \"Genes\": \"PTEN;KRAS;BRCA1;JAK2;TP53;EGFR\"}]}\n",
      "\n",
      "AI: Great! The enrichment analysis using the Enrichr API was successful. Let me summarize the results for you:\n",
      "\n",
      "The analysis identified several significant pathways and gene sets associated with your input gene list. Here are the top 5 most significant results:\n",
      "\n",
      "1. Endometrial cancer (KEGG pathway)\n",
      "   - P-value: 1.21e-07\n",
      "   - Adjusted P-value: 7.09e-06\n",
      "   - Genes involved: PTEN, KRAS, TP53, EGFR\n",
      "\n",
      "2. MicroRNAs in cancer (KEGG pathway)\n",
      "   - P-value: 1.63e-07\n",
      "   - Adjusted P-value: 7.09e-06\n",
      "   - Genes involved: DNMT3A, PTEN, KRAS, BRCA1, TP53, EGFR\n",
      "\n",
      "3. Glioma (KEGG pathway)\n",
      "   - P-value: 3.00e-07\n",
      "   - Adjusted P-value: 7.09e-06\n",
      "   - Genes involved: PTEN, KRAS, TP53, EGFR\n",
      "\n",
      "4. Central carbon metabolism in cancer (KEGG pathway)\n",
      "   - P-value: 3.40e-07\n",
      "   - Adjusted P-value: 7.09e-06\n",
      "   - Genes involved: PTEN, KRAS, TP53, EGFR\n",
      "\n",
      "5. PI3K-Akt signaling pathway (KEGG pathway)\n",
      "   - P-value: 3.67e-07\n",
      "   - Adjusted P-value: 7.09e-06\n",
      "   - Genes involved: PTEN, KRAS, BRCA1, JAK2, TP53, EGFR\n",
      "\n",
      "These results suggest that your input gene list is significantly enriched in cancer-related pathways, particularly those involved in endometrial cancer, glioma, and general cancer processes such as microRNA regulation and central carbon metabolism. The PI3K-Akt signaling pathway, which is crucial in regulating cell cycle and is often dysregulated in cancer, is also significantly enriched.\n",
      "\n",
      "Key genes that appear multiple times in these top pathways include PTEN, KRAS, TP53, and EGFR, all of which are well-known cancer-related genes. This suggests that your gene list may be particularly relevant to cancer research or studies involving these specific pathways.\n",
      "\n",
      "Is there any specific aspect of these results you'd like me to elaborate on or any additional analysis you'd like me to perform?\n",
      "\n"
     ]
    }
   ],
   "source": [
    "response = app.invoke(\n",
    "    {\"messages\": [(\"human\", \"inputgenelist is ['HBG1', 'GATA2', 'ANKRD22', 'LHX4', 'PSMD9', 'APH1A', 'TRAPPC4', 'KRAS', 'TP53', 'PTCH1', 'DNMT3A', 'PTPRS', 'JAK2', 'TNFAIP3', 'BRCA1', 'ASXL1', 'PTCH1', 'DNMT3A', 'PTPRS', 'JAK2', 'EGFR', 'PTEN']\")]},\n",
    "    {\"recursion_limit\": 10},\n",
    ")\n",
    "for message in response[\"messages\"]:\n",
    "    string_representation = f\"{message.type.upper()}: {message.content}\\n\"\n",
    "    print(string_representation)"
   ]
  },
  {
   "cell_type": "code",
   "execution_count": 17,
   "id": "5835967e-4560-46bd-a0d0-9522b4b3c739",
   "metadata": {},
   "outputs": [
    {
     "name": "stdin",
     "output_type": "stream",
     "text": [
      "User:  inputgenelist is ['HBG1', 'GATA2', 'ANKRD22', 'LHX4', 'PSMD9', 'APH1A', 'TRAPPC4', 'KRAS', 'TP53', 'PTCH1', 'DNMT3A', 'PTPRS', 'JAK2', 'TNFAIP3', 'BRCA1', 'ASXL1', 'PTCH1', 'DNMT3A', 'PTPRS', 'JAK2', 'EGFR', 'PTEN']\n"
     ]
    },
    {
     "name": "stdout",
     "output_type": "stream",
     "text": [
      "Assistant: [{'text': \"Thank you for providing the input gene list. I'll use the Enrichr API to perform an enrichment analysis on these genes. Let's proceed with the tool call.\", 'type': 'text'}, {'id': 'toolu_01RBYooY1do2a3fsx3DghqNQ', 'input': {'inputgenelist': ['HBG1', 'GATA2', 'ANKRD22', 'LHX4', 'PSMD9', 'APH1A', 'TRAPPC4', 'KRAS', 'TP53', 'PTCH1', 'DNMT3A', 'PTPRS', 'JAK2', 'TNFAIP3', 'BRCA1', 'ASXL1', 'PTCH1', 'DNMT3A', 'PTPRS', 'JAK2', 'EGFR', 'PTEN']}, 'name': 'enrichr_api', 'type': 'tool_use'}]\n",
      "Assistant: Error: 1 validation error for enrichr_api\n",
      "input_data\n",
      "  Field required [type=missing, input_value={'inputgenelist': ['HBG1'...'JAK2', 'EGFR', 'PTEN']}, input_type=dict]\n",
      "    For further information visit https://errors.pydantic.dev/2.9/v/missing\n",
      " Please fix your mistakes.\n",
      "Assistant: [{'text': 'I apologize for the error in my previous response. It seems there was a mismatch in the parameter name. Let me correct that and try again with the correct parameter name.', 'type': 'text'}, {'id': 'toolu_0188Rr6GKsPJkpKY3YTNQG3u', 'input': {'input_data': ['HBG1', 'GATA2', 'ANKRD22', 'LHX4', 'PSMD9', 'APH1A', 'TRAPPC4', 'KRAS', 'TP53', 'PTCH1', 'DNMT3A', 'PTPRS', 'JAK2', 'TNFAIP3', 'BRCA1', 'ASXL1', 'PTCH1', 'DNMT3A', 'PTPRS', 'JAK2', 'EGFR', 'PTEN']}, 'name': 'enrichr_api', 'type': 'tool_use'}]\n",
      "Assistant: {\"enrichment_results\": [{\"Gene_set\": \"KEGG_2016\", \"Term\": \"Endometrial cancer Homo sapiens hsa05213\", \"Overlap\": \"4/52\", \"P-value\": 1.2098570270927802e-07, \"Adjusted P-value\": 7.088801821799391e-06, \"Old P-value\": 0, \"Old Adjusted P-value\": 0, \"Odds Ratio\": 118.6547619047619, \"Combined Score\": 1889.884809446178, \"Genes\": \"PTEN;KRAS;TP53;EGFR\"}, {\"Gene_set\": \"KEGG_2016\", \"Term\": \"MicroRNAs in cancer Homo sapiens hsa05206\", \"Overlap\": \"6/297\", \"P-value\": 1.6288851047270544e-07, \"Adjusted P-value\": 7.088801821799391e-06, \"Old P-value\": 0, \"Old Adjusted P-value\": 0, \"Odds Ratio\": 33.833333333333336, \"Combined Score\": 528.821761760631, \"Genes\": \"DNMT3A;PTEN;KRAS;BRCA1;TP53;EGFR\"}, {\"Gene_set\": \"KEGG_2016\", \"Term\": \"Glioma Homo sapiens hsa05214\", \"Overlap\": \"4/65\", \"P-value\": 3.003720406162296e-07, \"Adjusted P-value\": 7.088801821799391e-06, \"Old P-value\": 0, \"Old Adjusted P-value\": 0, \"Odds Ratio\": 93.30679156908666, \"Combined Score\": 1401.3041621971267, \"Genes\": \"PTEN;KRAS;TP53;EGFR\"}, {\"Gene_set\": \"KEGG_2016\", \"Term\": \"Central carbon metabolism in cancer Homo sapiens hsa05230\", \"Overlap\": \"4/67\", \"P-value\": 3.396718615367122e-07, \"Adjusted P-value\": 7.088801821799391e-06, \"Old P-value\": 0, \"Old Adjusted P-value\": 0, \"Odds Ratio\": 90.33560090702947, \"Combined Score\": 1345.5745932880905, \"Genes\": \"PTEN;KRAS;TP53;EGFR\"}, {\"Gene_set\": \"KEGG_2016\", \"Term\": \"PI3K-Akt signaling pathway Homo sapiens hsa04151\", \"Overlap\": \"6/341\", \"P-value\": 3.67123158463665e-07, \"Adjusted P-value\": 7.088801821799391e-06, \"Old P-value\": 0, \"Old Adjusted P-value\": 0, \"Odds Ratio\": 29.323880597014924, \"Combined Score\": 434.5086083629967, \"Genes\": \"PTEN;KRAS;BRCA1;JAK2;TP53;EGFR\"}]}\n",
      "Assistant: Great! The enrichment analysis using the Enrichr API has been successful. Let me summarize the top 5 enrichment results for you:\n",
      "\n",
      "1. KEGG Pathway: Endometrial cancer\n",
      "   - P-value: 1.21e-07\n",
      "   - Adjusted P-value: 7.09e-06\n",
      "   - Genes involved: PTEN, KRAS, TP53, EGFR\n",
      "\n",
      "2. KEGG Pathway: MicroRNAs in cancer\n",
      "   - P-value: 1.63e-07\n",
      "   - Adjusted P-value: 7.09e-06\n",
      "   - Genes involved: DNMT3A, PTEN, KRAS, BRCA1, TP53, EGFR\n",
      "\n",
      "3. KEGG Pathway: Glioma\n",
      "   - P-value: 3.00e-07\n",
      "   - Adjusted P-value: 7.09e-06\n",
      "   - Genes involved: PTEN, KRAS, TP53, EGFR\n",
      "\n",
      "4. KEGG Pathway: Central carbon metabolism in cancer\n",
      "   - P-value: 3.40e-07\n",
      "   - Adjusted P-value: 7.09e-06\n",
      "   - Genes involved: PTEN, KRAS, TP53, EGFR\n",
      "\n",
      "5. KEGG Pathway: PI3K-Akt signaling pathway\n",
      "   - P-value: 3.67e-07\n",
      "   - Adjusted P-value: 7.09e-06\n",
      "   - Genes involved: PTEN, KRAS, BRCA1, JAK2, TP53, EGFR\n",
      "\n",
      "These results suggest that the input gene list is significantly enriched in several cancer-related pathways, particularly those involved in endometrial cancer, glioma, and general cancer processes like microRNA regulation and central carbon metabolism. The PI3K-Akt signaling pathway, which is crucial in regulating cell cycle and is directly related to cellular quiescence, proliferation, cancer, and longevity, is also significantly enriched.\n",
      "\n",
      "The genes that appear most frequently in these top pathways are PTEN, KRAS, TP53, and EGFR, all of which are well-known cancer-related genes. This suggests that your input gene list is strongly associated with cancer-related processes and pathways.\n",
      "\n",
      "Is there any specific aspect of these results you'd like me to elaborate on, or do you have any questions about the enrichment analysis?\n"
     ]
    },
    {
     "name": "stdin",
     "output_type": "stream",
     "text": [
      "User:  q\n"
     ]
    },
    {
     "name": "stdout",
     "output_type": "stream",
     "text": [
      "Goodbye!\n"
     ]
    }
   ],
   "source": [
    "def stream_graph_updates(user_input: str):\n",
    "    for event in app.stream({\"messages\": [(\"user\", user_input)]}):\n",
    "        for value in event.values():\n",
    "            print(\"Assistant:\", value[\"messages\"][-1].content)\n",
    "while True:\n",
    "    try:\n",
    "        user_input = input(\"User: \")\n",
    "        if user_input.lower() in [\"quit\", \"exit\", \"q\"]:\n",
    "            print(\"Goodbye!\")\n",
    "            break\n",
    "\n",
    "        stream_graph_updates(user_input)\n",
    "    except:\n",
    "        # fallback if input() is not available\n",
    "        user_input = \"What do you know about LangGraph?\"\n",
    "        print(\"User: \" + user_input)\n",
    "        stream_graph_updates(user_input)\n",
    "        break"
   ]
  },
  {
   "cell_type": "code",
   "execution_count": 18,
   "id": "980a296c-0385-49b5-aa6b-42a00e7128e3",
   "metadata": {},
   "outputs": [
    {
     "name": "stdout",
     "output_type": "stream",
     "text": [
      "{'agent': {'messages': [AIMessage(content=[{'text': \"Thank you for providing the input gene list. I can use this list to perform an enrichment analysis using the Enrichr API. This analysis will help identify biological pathways, functions, or processes that are significantly associated with the genes you've provided. Let's proceed with the enrichment analysis.\", 'type': 'text'}, {'id': 'toolu_01Ty43bf2qV2wny5dvkrQbGb', 'input': {'inputgenelist': ['HBG1', 'GATA2', 'ANKRD22', 'LHX4', 'PSMD9', 'APH1A', 'TRAPPC4', 'KRAS', 'TP53', 'PTCH1', 'DNMT3A', 'PTPRS', 'JAK2', 'TNFAIP3', 'BRCA1', 'ASXL1', 'PTCH1', 'DNMT3A', 'PTPRS', 'JAK2', 'EGFR', 'PTEN']}, 'name': 'enrichr_api', 'type': 'tool_use'}], additional_kwargs={}, response_metadata={'id': 'msg_01QnUuDz99F5K8H4EpdhZqTR', 'model': 'claude-3-5-sonnet-20240620', 'stop_reason': 'tool_use', 'stop_sequence': None, 'usage': {'cache_creation_input_tokens': 0, 'cache_read_input_tokens': 0, 'input_tokens': 550, 'output_tokens': 249}}, id='run-04238749-cffc-4af4-a9fc-79f74f62cb98-0', tool_calls=[{'name': 'enrichr_api', 'args': {'inputgenelist': ['HBG1', 'GATA2', 'ANKRD22', 'LHX4', 'PSMD9', 'APH1A', 'TRAPPC4', 'KRAS', 'TP53', 'PTCH1', 'DNMT3A', 'PTPRS', 'JAK2', 'TNFAIP3', 'BRCA1', 'ASXL1', 'PTCH1', 'DNMT3A', 'PTPRS', 'JAK2', 'EGFR', 'PTEN']}, 'id': 'toolu_01Ty43bf2qV2wny5dvkrQbGb', 'type': 'tool_call'}], usage_metadata={'input_tokens': 550, 'output_tokens': 249, 'total_tokens': 799, 'input_token_details': {'cache_read': 0, 'cache_creation': 0}})]}}\n",
      "{'tools': {'messages': [ToolMessage(content=\"Error: 1 validation error for enrichr_api\\ninput_data\\n  Field required [type=missing, input_value={'inputgenelist': ['HBG1'...'JAK2', 'EGFR', 'PTEN']}, input_type=dict]\\n    For further information visit https://errors.pydantic.dev/2.9/v/missing\\n Please fix your mistakes.\", name='enrichr_api', id='74cc542f-e0a0-4f72-8dd9-2f9a97f52729', tool_call_id='toolu_01Ty43bf2qV2wny5dvkrQbGb', status='error')]}}\n",
      "{'agent': {'messages': [AIMessage(content=[{'text': 'I apologize for the error in my previous response. It seems there was an issue with the parameter name. Let me correct that and try again with the correct parameter name.', 'type': 'text'}, {'id': 'toolu_01LEehHvhHGFxc98VNHfFBUi', 'input': {'input_data': {'inputgenelist': ['HBG1', 'GATA2', 'ANKRD22', 'LHX4', 'PSMD9', 'APH1A', 'TRAPPC4', 'KRAS', 'TP53', 'PTCH1', 'DNMT3A', 'PTPRS', 'JAK2', 'TNFAIP3', 'BRCA1', 'ASXL1', 'PTCH1', 'DNMT3A', 'PTPRS', 'JAK2', 'EGFR', 'PTEN']}}, 'name': 'enrichr_api', 'type': 'tool_use'}], additional_kwargs={}, response_metadata={'id': 'msg_019J8h58cykhWDLhkuq2PSPP', 'model': 'claude-3-5-sonnet-20240620', 'stop_reason': 'tool_use', 'stop_sequence': None, 'usage': {'cache_creation_input_tokens': 0, 'cache_read_input_tokens': 0, 'input_tokens': 912, 'output_tokens': 230}}, id='run-960561d9-f436-4211-960b-128c10bd96f7-0', tool_calls=[{'name': 'enrichr_api', 'args': {'input_data': {'inputgenelist': ['HBG1', 'GATA2', 'ANKRD22', 'LHX4', 'PSMD9', 'APH1A', 'TRAPPC4', 'KRAS', 'TP53', 'PTCH1', 'DNMT3A', 'PTPRS', 'JAK2', 'TNFAIP3', 'BRCA1', 'ASXL1', 'PTCH1', 'DNMT3A', 'PTPRS', 'JAK2', 'EGFR', 'PTEN']}}, 'id': 'toolu_01LEehHvhHGFxc98VNHfFBUi', 'type': 'tool_call'}], usage_metadata={'input_tokens': 912, 'output_tokens': 230, 'total_tokens': 1142, 'input_token_details': {'cache_read': 0, 'cache_creation': 0}})]}}\n",
      "{'tools': {'messages': [ToolMessage(content='{\"enrichment_results\": [{\"Gene_set\": \"KEGG_2016\", \"Term\": \"Endometrial cancer Homo sapiens hsa05213\", \"Overlap\": \"4/52\", \"P-value\": 1.2098570270927802e-07, \"Adjusted P-value\": 7.088801821799391e-06, \"Old P-value\": 0, \"Old Adjusted P-value\": 0, \"Odds Ratio\": 118.6547619047619, \"Combined Score\": 1889.884809446178, \"Genes\": \"PTEN;KRAS;TP53;EGFR\"}, {\"Gene_set\": \"KEGG_2016\", \"Term\": \"MicroRNAs in cancer Homo sapiens hsa05206\", \"Overlap\": \"6/297\", \"P-value\": 1.6288851047270544e-07, \"Adjusted P-value\": 7.088801821799391e-06, \"Old P-value\": 0, \"Old Adjusted P-value\": 0, \"Odds Ratio\": 33.833333333333336, \"Combined Score\": 528.821761760631, \"Genes\": \"DNMT3A;PTEN;KRAS;BRCA1;TP53;EGFR\"}, {\"Gene_set\": \"KEGG_2016\", \"Term\": \"Glioma Homo sapiens hsa05214\", \"Overlap\": \"4/65\", \"P-value\": 3.003720406162296e-07, \"Adjusted P-value\": 7.088801821799391e-06, \"Old P-value\": 0, \"Old Adjusted P-value\": 0, \"Odds Ratio\": 93.30679156908666, \"Combined Score\": 1401.3041621971267, \"Genes\": \"PTEN;KRAS;TP53;EGFR\"}, {\"Gene_set\": \"KEGG_2016\", \"Term\": \"Central carbon metabolism in cancer Homo sapiens hsa05230\", \"Overlap\": \"4/67\", \"P-value\": 3.396718615367122e-07, \"Adjusted P-value\": 7.088801821799391e-06, \"Old P-value\": 0, \"Old Adjusted P-value\": 0, \"Odds Ratio\": 90.33560090702947, \"Combined Score\": 1345.5745932880905, \"Genes\": \"PTEN;KRAS;TP53;EGFR\"}, {\"Gene_set\": \"KEGG_2016\", \"Term\": \"PI3K-Akt signaling pathway Homo sapiens hsa04151\", \"Overlap\": \"6/341\", \"P-value\": 3.67123158463665e-07, \"Adjusted P-value\": 7.088801821799391e-06, \"Old P-value\": 0, \"Old Adjusted P-value\": 0, \"Odds Ratio\": 29.323880597014924, \"Combined Score\": 434.5086083629967, \"Genes\": \"PTEN;KRAS;BRCA1;JAK2;TP53;EGFR\"}]}', name='enrichr_api', id='c77c7d0e-0179-4f12-aa8b-5cd807f24270', tool_call_id='toolu_01LEehHvhHGFxc98VNHfFBUi')]}}\n",
      "{'agent': {'messages': [AIMessage(content=\"Great! The enrichment analysis using the Enrichr API has been successfully performed on your input gene list. Let me summarize the top results for you:\\n\\n1. KEGG Pathway: Endometrial cancer\\n   - P-value: 1.21e-07\\n   - Adjusted P-value: 7.09e-06\\n   - Genes involved: PTEN, KRAS, TP53, EGFR\\n\\n2. KEGG Pathway: MicroRNAs in cancer\\n   - P-value: 1.63e-07\\n   - Adjusted P-value: 7.09e-06\\n   - Genes involved: DNMT3A, PTEN, KRAS, BRCA1, TP53, EGFR\\n\\n3. KEGG Pathway: Glioma\\n   - P-value: 3.00e-07\\n   - Adjusted P-value: 7.09e-06\\n   - Genes involved: PTEN, KRAS, TP53, EGFR\\n\\n4. KEGG Pathway: Central carbon metabolism in cancer\\n   - P-value: 3.40e-07\\n   - Adjusted P-value: 7.09e-06\\n   - Genes involved: PTEN, KRAS, TP53, EGFR\\n\\n5. KEGG Pathway: PI3K-Akt signaling pathway\\n   - P-value: 3.67e-07\\n   - Adjusted P-value: 7.09e-06\\n   - Genes involved: PTEN, KRAS, BRCA1, JAK2, TP53, EGFR\\n\\nThese results suggest that the genes in your input list are significantly enriched in several cancer-related pathways, particularly those involved in endometrial cancer, glioma, and general cancer processes like microRNA regulation and central carbon metabolism. The PI3K-Akt signaling pathway, which is crucial in regulating cell cycle and is directly related to cellular quiescence, proliferation, cancer, and longevity, is also significantly enriched.\\n\\nKey genes that appear multiple times in these top pathways include:\\n- PTEN (tumor suppressor gene)\\n- KRAS (oncogene)\\n- TP53 (tumor suppressor gene)\\n- EGFR (epidermal growth factor receptor, often involved in cancer)\\n- BRCA1 (tumor suppressor gene, associated with breast and ovarian cancer)\\n- JAK2 (involved in various cellular processes)\\n\\nThis enrichment analysis provides insights into the biological processes and pathways that may be affected by the genes in your list. It suggests a strong association with cancer-related processes, particularly signaling pathways involved in cell growth, division, and survival.\\n\\nIs there any specific aspect of these results you'd like me to elaborate on, or do you have any questions about the enrichment analysis?\", additional_kwargs={}, response_metadata={'id': 'msg_01Dgw7yeHTNExMaGuD5t3RCr', 'model': 'claude-3-5-sonnet-20240620', 'stop_reason': 'end_turn', 'stop_sequence': None, 'usage': {'cache_creation_input_tokens': 0, 'cache_read_input_tokens': 0, 'input_tokens': 1924, 'output_tokens': 672}}, id='run-ce97a46c-ce22-432a-b947-25c0225071de-0', usage_metadata={'input_tokens': 1924, 'output_tokens': 672, 'total_tokens': 2596, 'input_token_details': {'cache_read': 0, 'cache_creation': 0}})]}}\n"
     ]
    }
   ],
   "source": [
    "stream = app.stream(\n",
    "    {\"messages\": [(\"human\", \"inputgenelist is ['HBG1', 'GATA2', 'ANKRD22', 'LHX4', 'PSMD9', 'APH1A', 'TRAPPC4', 'KRAS', 'TP53', 'PTCH1', 'DNMT3A', 'PTPRS', 'JAK2', 'TNFAIP3', 'BRCA1', 'ASXL1', 'PTCH1', 'DNMT3A', 'PTPRS', 'JAK2', 'EGFR', 'PTEN']\")]},\n",
    "    {\"recursion_limit\": 10},\n",
    ")\n",
    "\n",
    "for chunk in stream:\n",
    "    print(chunk)"
   ]
  },
  {
   "cell_type": "code",
   "execution_count": null,
   "id": "38541ceb-8fc9-4682-8f43-9d5e3a6b7a23",
   "metadata": {},
   "outputs": [],
   "source": []
  }
 ],
 "metadata": {
  "kernelspec": {
   "display_name": "venv1",
   "language": "python",
   "name": "venv1"
  },
  "language_info": {
   "codemirror_mode": {
    "name": "ipython",
    "version": 3
   },
   "file_extension": ".py",
   "mimetype": "text/x-python",
   "name": "python",
   "nbconvert_exporter": "python",
   "pygments_lexer": "ipython3",
   "version": "3.11.9"
  }
 },
 "nbformat": 4,
 "nbformat_minor": 5
}
